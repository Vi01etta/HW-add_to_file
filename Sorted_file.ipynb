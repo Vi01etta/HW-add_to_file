{
 "cells": [
  {
   "cell_type": "code",
   "execution_count": 6,
   "id": "clinical-expert",
   "metadata": {},
   "outputs": [
    {
     "name": "stdout",
     "output_type": "stream",
     "text": [
      "2.txt\n",
      "\n",
      "1\n",
      "\n",
      "\n",
      "Тревога началась в тринадцать часов ноль две минуты. \n",
      "\n",
      "1.txt\n",
      "\n",
      "8\n",
      "\n",
      "\n",
      "Начальник  полиции\n",
      "лично позвонил в шестнадцатый участок. А спустя  одну минуту тридцать секунд\n",
      "в дежурке и других комнатах нижнего этажа раздались звонки\n",
      "     Когда Иенсен  --  комиссар  шестнадцатого  участка --  вышел  из своего\n",
      "кабинета,  звонки еще  не смолкли. Иенсен был мужчина средних лет,  обычного\n",
      "сложения, с лицом плоским и невыразительным. На последней ступеньке винтовой\n",
      "лестницы  он задержался  и  обвел взглядом помещение дежурки. Затем поправил\n",
      "галстук и проследовал к машине.\n",
      "\n",
      "3.txt\n",
      "\n",
      "9\n",
      "\n",
      "\n",
      " В  это время  дня  машины текли сплошным  блестящим  потоком,  а  среди\n",
      "потока, будто  колонны из бетона  и стекла, высились  здания. Здесь,  в мире\n",
      "резких граней,  люди  на тротуарах  выглядели  несчастными и  неприкаянными.\n",
      "Одеты они были хорошо, но как-то удивительно походили друг на друга и все до\n",
      "одного спешили. Они шли нестройными  вереницами, широко разливались, завидев\n",
      "красный  светофор или  металлический  блеск кафе-автоматов.  Они непрестанно\n",
      "озирались по сторонам и теребили портфели и сумочки.\n",
      "     Полицейские  машины  с  включенными  сиренами  пробивались  сквозь  эту\n",
      "толчею.\n"
     ]
    }
   ],
   "source": [
    "with open('1.txt', 'r') as a:\n",
    "  text = a.read()\n",
    "  a.seek(0)\n",
    "  lines1 = a.readlines()\n",
    "  size1 = len(lines1)\n",
    "  \n",
    "tuple1 = ('\\n1.txt\\n', str(size1), '\\n', text)\n",
    "\n",
    "with open('2.txt', 'r', encoding = 'utf-8') as b:\n",
    "  text = b.read()\n",
    "  b.seek(0)\n",
    "  lines2 = b.readlines()\n",
    "  size2 = len(lines2)\n",
    "\n",
    "\n",
    "tuple2 = ('2.txt\\n', str(size2), '\\n', text)\n",
    "\n",
    "with open('3.txt', 'r', encoding = 'utf-8') as c:\n",
    "  text = c.read()\n",
    "  c.seek(0)\n",
    "  lines3 = c.readlines()\n",
    "  size3 = len(lines3)\n",
    "  \n",
    "tuple3 = ('\\n3.txt\\n', str(size3), '\\n', text)\n",
    "\n",
    "\n",
    "tuple_list = [tuple2, tuple1, tuple3]\n",
    "\n",
    "\n",
    "new_file = open ('4.txt', 'w')\n",
    "\n",
    "\n",
    "for tuples in tuple_list:\n",
    "  for text_values in tuples:\n",
    "    print(text_values)\n",
    "    new_file.write(text_values)\n",
    "    \n",
    "new_file.close()"
   ]
  },
  {
   "cell_type": "code",
   "execution_count": null,
   "id": "digital-tyler",
   "metadata": {},
   "outputs": [],
   "source": []
  },
  {
   "cell_type": "code",
   "execution_count": null,
   "id": "banned-carroll",
   "metadata": {},
   "outputs": [],
   "source": []
  },
  {
   "cell_type": "code",
   "execution_count": null,
   "id": "parallel-capture",
   "metadata": {},
   "outputs": [],
   "source": []
  }
 ],
 "metadata": {
  "kernelspec": {
   "display_name": "Python 3",
   "language": "python",
   "name": "python3"
  },
  "language_info": {
   "codemirror_mode": {
    "name": "ipython",
    "version": 3
   },
   "file_extension": ".py",
   "mimetype": "text/x-python",
   "name": "python",
   "nbconvert_exporter": "python",
   "pygments_lexer": "ipython3",
   "version": "3.9.1"
  }
 },
 "nbformat": 4,
 "nbformat_minor": 5
}
